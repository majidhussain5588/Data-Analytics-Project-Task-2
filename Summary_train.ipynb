{
 "cells": [
  {
   "cell_type": "code",
   "execution_count": 1,
   "id": "b7a803c2",
   "metadata": {},
   "outputs": [],
   "source": [
    "#Import necessary libraries\n",
    "import pandas as pd\n",
    "import numpy as np"
   ]
  },
  {
   "cell_type": "code",
   "execution_count": 2,
   "id": "bdb9c1f3",
   "metadata": {},
   "outputs": [],
   "source": [
    " #Load the dataset\n",
    "titanic_data = pd.read_csv('train.csv')"
   ]
  },
  {
   "cell_type": "code",
   "execution_count": 3,
   "id": "9c8fddd1",
   "metadata": {},
   "outputs": [
    {
     "name": "stdout",
     "output_type": "stream",
     "text": [
      "Dataset Information:\n",
      "<class 'pandas.core.frame.DataFrame'>\n",
      "RangeIndex: 891 entries, 0 to 890\n",
      "Data columns (total 12 columns):\n",
      " #   Column       Non-Null Count  Dtype  \n",
      "---  ------       --------------  -----  \n",
      " 0   PassengerId  891 non-null    int64  \n",
      " 1   Survived     891 non-null    int64  \n",
      " 2   Pclass       891 non-null    int64  \n",
      " 3   Name         891 non-null    object \n",
      " 4   Sex          891 non-null    object \n",
      " 5   Age          714 non-null    float64\n",
      " 6   SibSp        891 non-null    int64  \n",
      " 7   Parch        891 non-null    int64  \n",
      " 8   Ticket       891 non-null    object \n",
      " 9   Fare         891 non-null    float64\n",
      " 10  Cabin        204 non-null    object \n",
      " 11  Embarked     889 non-null    object \n",
      "dtypes: float64(2), int64(5), object(5)\n",
      "memory usage: 83.7+ KB\n",
      "None\n"
     ]
    }
   ],
   "source": [
    "#Display basic information about the dataset\n",
    "print(\"Dataset Information:\")\n",
    "print(titanic_data.info())"
   ]
  },
  {
   "cell_type": "code",
   "execution_count": 4,
   "id": "56366937",
   "metadata": {},
   "outputs": [],
   "source": [
    "#Select numerical columns for statistics\n",
    "numerical_cols = ['Age', 'Fare', 'SibSp', 'Parch']\n",
    "\n",
    "# Explanation: We choose these columns because they contain numbers we can calculate statistics for\n",
    "# Age = passenger age, Fare = ticket price, SibSp = siblings/spouses aboard, Parch = parents/children"
   ]
  },
  {
   "cell_type": "code",
   "execution_count": 5,
   "id": "4ace58fd",
   "metadata": {},
   "outputs": [
    {
     "name": "stdout",
     "output_type": "stream",
     "text": [
      "\n",
      "Basic Statistics for Numerical Columns:\n",
      "              Age        Fare       SibSp       Parch\n",
      "count  714.000000  891.000000  891.000000  891.000000\n",
      "mean    29.699118   32.204208    0.523008    0.381594\n",
      "std     14.526497   49.693429    1.102743    0.806057\n",
      "min      0.420000    0.000000    0.000000    0.000000\n",
      "25%     20.125000    7.910400    0.000000    0.000000\n",
      "50%     28.000000   14.454200    0.000000    0.000000\n",
      "75%     38.000000   31.000000    1.000000    0.000000\n",
      "max     80.000000  512.329200    8.000000    6.000000\n"
     ]
    }
   ],
   "source": [
    "#Calculate basic statistics for numerical columns\n",
    "print(\"\\nBasic Statistics for Numerical Columns:\")\n",
    "print(titanic_data[numerical_cols].describe())\n",
    "\n",
    "# Explanation: The describe() function gives us:\n",
    "# - count: how many non-missing values\n",
    "# - mean: average value\n",
    "# - std: standard deviation (how spread out the values are)\n",
    "# - min/max: smallest and largest values\n",
    "# - 25%/50%/75%: percentile values (50% is the median)"
   ]
  },
  {
   "cell_type": "code",
   "execution_count": 6,
   "id": "e048471a",
   "metadata": {},
   "outputs": [
    {
     "name": "stdout",
     "output_type": "stream",
     "text": [
      "\n",
      "Median Values:\n",
      "Age      28.0000\n",
      "Fare     14.4542\n",
      "SibSp     0.0000\n",
      "Parch     0.0000\n",
      "dtype: float64\n"
     ]
    }
   ],
   "source": [
    "# Calculate median separately (to see it clearly)\n",
    "print(\"\\nMedian Values:\")\n",
    "print(titanic_data[numerical_cols].median())\n",
    "\n"
   ]
  },
  {
   "cell_type": "code",
   "execution_count": 7,
   "id": "01413d92",
   "metadata": {},
   "outputs": [
    {
     "name": "stdout",
     "output_type": "stream",
     "text": [
      "\n",
      "Mode (Most Frequent Values):\n",
      "    Age  Fare  SibSp  Parch\n",
      "0  24.0  8.05      0      0\n"
     ]
    }
   ],
   "source": [
    "# Calculate mode (most frequent values)\n",
    "print(\"\\nMode (Most Frequent Values):\")\n",
    "print(titanic_data[numerical_cols].mode())\n",
    "\n"
   ]
  },
  {
   "cell_type": "code",
   "execution_count": 8,
   "id": "dcc6f0c3",
   "metadata": {},
   "outputs": [
    {
     "name": "stdout",
     "output_type": "stream",
     "text": [
      "\n",
      "Standard Deviation (Measure of Spread):\n",
      "Age      14.526497\n",
      "Fare     49.693429\n",
      "SibSp     1.102743\n",
      "Parch     0.806057\n",
      "dtype: float64\n"
     ]
    }
   ],
   "source": [
    "#Calculate standard deviation\n",
    "print(\"\\nStandard Deviation (Measure of Spread):\")\n",
    "print(titanic_data[numerical_cols].std())\n",
    "\n"
   ]
  },
  {
   "cell_type": "code",
   "execution_count": 9,
   "id": "8164c29a",
   "metadata": {},
   "outputs": [
    {
     "name": "stdout",
     "output_type": "stream",
     "text": [
      "\n",
      "Value Counts for Categorical Columns:\n",
      "\n",
      "Pclass:\n",
      "3    491\n",
      "1    216\n",
      "2    184\n",
      "Name: Pclass, dtype: int64\n",
      "\n",
      "Sex:\n",
      "male      577\n",
      "female    314\n",
      "Name: Sex, dtype: int64\n",
      "\n",
      "Embarked:\n",
      "S    644\n",
      "C    168\n",
      "Q     77\n",
      "Name: Embarked, dtype: int64\n",
      "\n",
      "Survived:\n",
      "0    549\n",
      "1    342\n",
      "Name: Survived, dtype: int64\n"
     ]
    }
   ],
   "source": [
    "#Statistics for categorical columns\n",
    "categorical_cols = ['Pclass', 'Sex', 'Embarked', 'Survived']\n",
    "print(\"\\nValue Counts for Categorical Columns:\")\n",
    "for col in categorical_cols:\n",
    "    print(f\"\\n{col}:\")\n",
    "    print(titanic_data[col].value_counts())"
   ]
  },
  {
   "cell_type": "code",
   "execution_count": null,
   "id": "2ac9efd7",
   "metadata": {},
   "outputs": [],
   "source": []
  }
 ],
 "metadata": {
  "kernelspec": {
   "display_name": "Python 3 (ipykernel)",
   "language": "python",
   "name": "python3"
  },
  "language_info": {
   "codemirror_mode": {
    "name": "ipython",
    "version": 3
   },
   "file_extension": ".py",
   "mimetype": "text/x-python",
   "name": "python",
   "nbconvert_exporter": "python",
   "pygments_lexer": "ipython3",
   "version": "3.10.9"
  }
 },
 "nbformat": 4,
 "nbformat_minor": 5
}

{
 "cells": [
  {
   "cell_type": "code",
   "execution_count": 1,
   "id": "44a80468",
   "metadata": {},
   "outputs": [],
   "source": [
    "import pandas as pd\n",
    "import numpy as np\n",
    "from scipy import stats  # For mode calculation"
   ]
  },
  {
   "cell_type": "code",
   "execution_count": 2,
   "id": "6b9c232b",
   "metadata": {},
   "outputs": [],
   "source": [
    "# Replace with your file path if needed\n",
    "data = pd.read_csv('test.csv')"
   ]
  },
  {
   "cell_type": "code",
   "execution_count": 8,
   "id": "d838071c",
   "metadata": {},
   "outputs": [
    {
     "name": "stdout",
     "output_type": "stream",
     "text": [
      "Dataset Information:\n",
      "<class 'pandas.core.frame.DataFrame'>\n",
      "RangeIndex: 418 entries, 0 to 417\n",
      "Data columns (total 11 columns):\n",
      " #   Column       Non-Null Count  Dtype  \n",
      "---  ------       --------------  -----  \n",
      " 0   PassengerId  418 non-null    int64  \n",
      " 1   Pclass       418 non-null    int64  \n",
      " 2   Name         418 non-null    object \n",
      " 3   Sex          418 non-null    object \n",
      " 4   Age          332 non-null    float64\n",
      " 5   SibSp        418 non-null    int64  \n",
      " 6   Parch        418 non-null    int64  \n",
      " 7   Ticket       418 non-null    object \n",
      " 8   Fare         417 non-null    float64\n",
      " 9   Cabin        91 non-null     object \n",
      " 10  Embarked     418 non-null    object \n",
      "dtypes: float64(2), int64(4), object(5)\n",
      "memory usage: 36.0+ KB\n",
      "None\n"
     ]
    }
   ],
   "source": [
    "#Display basic information about the dataset\n",
    "print(\"Dataset Information:\")\n",
    "print(data.info())"
   ]
  },
  {
   "cell_type": "code",
   "execution_count": 9,
   "id": "6c73371f",
   "metadata": {},
   "outputs": [],
   "source": [
    "#Calculate summary statistics for numerical columns\n",
    "numerical_cols = ['Age', 'SibSp', 'Parch', 'Fare']\n",
    "summary_stats = data[numerical_cols].describe()"
   ]
  },
  {
   "cell_type": "code",
   "execution_count": 10,
   "id": "8f38e54e",
   "metadata": {},
   "outputs": [
    {
     "name": "stdout",
     "output_type": "stream",
     "text": [
      "\n",
      "Summary Statistics for Numerical Columns:\n",
      "              Age       SibSp       Parch        Fare\n",
      "count  332.000000  418.000000  418.000000  417.000000\n",
      "mean    30.272590    0.447368    0.392344   35.627188\n",
      "std     14.181209    0.896760    0.981429   55.907576\n",
      "min      0.170000    0.000000    0.000000    0.000000\n",
      "25%     21.000000    0.000000    0.000000    7.895800\n",
      "50%     27.000000    0.000000    0.000000   14.454200\n",
      "75%     39.000000    1.000000    0.000000   31.500000\n",
      "max     76.000000    8.000000    9.000000  512.329200\n"
     ]
    }
   ],
   "source": [
    " #Calculate additional statistics\n",
    "print(\"\\nSummary Statistics for Numerical Columns:\")\n",
    "print(summary_stats)"
   ]
  },
  {
   "cell_type": "code",
   "execution_count": 11,
   "id": "df4f71c0",
   "metadata": {},
   "outputs": [
    {
     "name": "stdout",
     "output_type": "stream",
     "text": [
      "\n",
      "Mode for Categorical Columns:\n",
      "\n",
      "Pclass:\n",
      "0    3\n",
      "Name: Pclass, dtype: int64\n",
      "\n",
      "Sex:\n",
      "0    male\n",
      "Name: Sex, dtype: object\n",
      "\n",
      "Embarked:\n",
      "0    S\n",
      "Name: Embarked, dtype: object\n"
     ]
    }
   ],
   "source": [
    "#Calculate mode for categorical columns\n",
    "categorical_cols = ['Pclass', 'Sex', 'Embarked']\n",
    "print(\"\\nMode for Categorical Columns:\")\n",
    "for col in categorical_cols:\n",
    "    print(f\"\\n{col}:\")\n",
    "    print(data[col].mode())"
   ]
  },
  {
   "cell_type": "code",
   "execution_count": 12,
   "id": "b0865339",
   "metadata": {},
   "outputs": [
    {
     "name": "stdout",
     "output_type": "stream",
     "text": [
      "\n",
      "Median Values:\n",
      "Age      27.0000\n",
      "SibSp     0.0000\n",
      "Parch     0.0000\n",
      "Fare     14.4542\n",
      "dtype: float64\n"
     ]
    }
   ],
   "source": [
    "#Calculate median (50th percentile is already in describe())\n",
    "print(\"\\nMedian Values:\")\n",
    "print(data[numerical_cols].median())"
   ]
  },
  {
   "cell_type": "code",
   "execution_count": 13,
   "id": "cb39ee53",
   "metadata": {},
   "outputs": [
    {
     "name": "stdout",
     "output_type": "stream",
     "text": [
      "\n",
      "Standard Deviation:\n",
      "Age      14.181209\n",
      "SibSp     0.896760\n",
      "Parch     0.981429\n",
      "Fare     55.907576\n",
      "dtype: float64\n"
     ]
    }
   ],
   "source": [
    "#Calculate standard deviation (std is already in describe())\n",
    "print(\"\\nStandard Deviation:\")\n",
    "print(data[numerical_cols].std())"
   ]
  },
  {
   "cell_type": "code",
   "execution_count": 14,
   "id": "78dcb1a5",
   "metadata": {},
   "outputs": [
    {
     "name": "stdout",
     "output_type": "stream",
     "text": [
      "Summary test saved to 'summary_test(2).csv'\n"
     ]
    }
   ],
   "source": [
    "# Save to CSV\n",
    "summary_stats.to_csv('summary_test(2).csv')\n",
    "print(\"Summary test saved to 'summary_test(2).csv'\")"
   ]
  },
  {
   "cell_type": "code",
   "execution_count": null,
   "id": "566f0f6d",
   "metadata": {},
   "outputs": [],
   "source": []
  }
 ],
 "metadata": {
  "kernelspec": {
   "display_name": "Python 3 (ipykernel)",
   "language": "python",
   "name": "python3"
  },
  "language_info": {
   "codemirror_mode": {
    "name": "ipython",
    "version": 3
   },
   "file_extension": ".py",
   "mimetype": "text/x-python",
   "name": "python",
   "nbconvert_exporter": "python",
   "pygments_lexer": "ipython3",
   "version": "3.10.9"
  }
 },
 "nbformat": 4,
 "nbformat_minor": 5
}

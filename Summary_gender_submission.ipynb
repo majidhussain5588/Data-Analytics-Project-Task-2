{
 "cells": [
  {
   "cell_type": "code",
   "execution_count": 1,
   "id": "9e9239f4",
   "metadata": {},
   "outputs": [],
   "source": [
    "import pandas as pd"
   ]
  },
  {
   "cell_type": "code",
   "execution_count": 2,
   "id": "63a1bee0",
   "metadata": {},
   "outputs": [],
   "source": [
    "df = pd.read_csv(\"gender_submission.csv\")"
   ]
  },
  {
   "cell_type": "code",
   "execution_count": 3,
   "id": "39397208",
   "metadata": {},
   "outputs": [
    {
     "name": "stdout",
     "output_type": "stream",
     "text": [
      "   PassengerId  Survived\n",
      "0          892         0\n",
      "1          893         1\n",
      "2          894         0\n",
      "3          895         0\n",
      "4          896         1\n"
     ]
    }
   ],
   "source": [
    "print(df.head())"
   ]
  },
  {
   "cell_type": "code",
   "execution_count": 7,
   "id": "151447d5",
   "metadata": {},
   "outputs": [
    {
     "name": "stdout",
     "output_type": "stream",
     "text": [
      "mean      0.363636\n",
      "median    0.000000\n",
      "std       0.481622\n",
      "Name: Survived, dtype: float64\n"
     ]
    }
   ],
   "source": [
    "stats = df[\"Survived\"].agg([\"mean\", \"median\", \"std\"])\n",
    "print(stats)"
   ]
  },
  {
   "cell_type": "code",
   "execution_count": 8,
   "id": "44e45d16",
   "metadata": {},
   "outputs": [
    {
     "name": "stdout",
     "output_type": "stream",
     "text": [
      "Mode: 0\n"
     ]
    }
   ],
   "source": [
    "mode = df[\"Survived\"].mode().values[0]  # Get the first mode value\n",
    "print(\"Mode:\", mode)"
   ]
  },
  {
   "cell_type": "code",
   "execution_count": 9,
   "id": "7e560efa",
   "metadata": {},
   "outputs": [
    {
     "name": "stdout",
     "output_type": "stream",
     "text": [
      "mean      0.363636\n",
      "median    0.000000\n",
      "std       0.481622\n",
      "mode      0.000000\n",
      "Name: Survived, dtype: float64\n"
     ]
    }
   ],
   "source": [
    "stats[\"mode\"] = mode  # Add mode to the stats Series\n",
    "print(stats)"
   ]
  },
  {
   "cell_type": "code",
   "execution_count": 10,
   "id": "8708fb18",
   "metadata": {},
   "outputs": [
    {
     "name": "stdout",
     "output_type": "stream",
     "text": [
      "0    266\n",
      "1    152\n",
      "Name: Survived, dtype: int64\n"
     ]
    }
   ],
   "source": [
    "survival_counts = df[\"Survived\"].value_counts()\n",
    "print(survival_counts)"
   ]
  },
  {
   "cell_type": "code",
   "execution_count": 11,
   "id": "3d8bd0c3",
   "metadata": {},
   "outputs": [
    {
     "data": {
      "image/png": "[encoded data removed]",
      "text/plain": [
       "<Figure size 640x480 with 1 Axes>"
      ]
     },
     "metadata": {},
     "output_type": "display_data"
    }
   ],
   "source": [
    "import matplotlib.pyplot as plt\n",
    "\n",
    "survival_counts.plot(kind=\"bar\", color=[\"red\", \"green\"])\n",
    "plt.title(\"Survival Count (0 = Died, 1 = Survived)\")\n",
    "plt.xlabel(\"Survived\")\n",
    "plt.ylabel(\"Count\")\n",
    "plt.show()"
   ]
  },
  {
   "cell_type": "code",
   "execution_count": 5,
   "id": "5e7b8b55",
   "metadata": {},
   "outputs": [
    {
     "name": "stdout",
     "output_type": "stream",
     "text": [
      "Excel file saved successfully!\n"
     ]
    }
   ],
   "source": [
    "import pandas as pd\n",
    "\n",
    "# Load data\n",
    "df = pd.read_csv(\"gender_submission.csv\")\n",
    "\n",
    "# Calculate stats\n",
    "stats = df[\"Survived\"].agg([\"mean\", \"median\", \"std\"])\n",
    "mode = df[\"Survived\"].mode().values[0]\n",
    "stats[\"mode\"] = mode\n",
    "stats_df = pd.DataFrame(stats).T  # Convert to DataFrame\n",
    "\n",
    "# Count survivors\n",
    "survival_counts = df[\"Survived\"].value_counts().reset_index()\n",
    "survival_counts.columns = [\"Survived\", \"Count\"]\n",
    "\n",
    "# Save to Excel\n",
    "with pd.ExcelWriter(\"survival_analysis_results.xlsx\") as writer:\n",
    "    stats_df.to_excel(writer, sheet_name=\"Summary_Statistics\", index=False)\n",
    "    survival_counts.to_excel(writer, sheet_name=\"Survival_Counts\", index=False)\n",
    "\n",
    "print(\"Excel file saved successfully!\")\n"
   ]
  },
  {
   "cell_type": "code",
   "execution_count": null,
   "id": "02134616",
   "metadata": {},
   "outputs": [],
   "source": []
  }
 ],
 "metadata": {
  "kernelspec": {
   "display_name": "Python 3 (ipykernel)",
   "language": "python",
   "name": "python3"
  },
  "language_info": {
   "codemirror_mode": {
    "name": "ipython",
    "version": 3
   },
   "file_extension": ".py",
   "mimetype": "text/x-python",
   "name": "python",
   "nbconvert_exporter": "python",
   "pygments_lexer": "ipython3",
   "version": "3.10.9"
  }
 },
 "nbformat": 4,
 "nbformat_minor": 5
}
